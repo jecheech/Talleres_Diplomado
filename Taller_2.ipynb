{
 "cells": [
  {
   "cell_type": "markdown",
   "metadata": {},
   "source": [
    "## Solucion al taller 2\n",
    "### Diplomado Python aplicado a la ingeniería\n",
    "\n",
    "- Autor: Jaider Stiven Echeverri Bedoya\n",
    "- ID: \n",
    "- Email: jaider.echeverri@upb.edu.co"
   ]
  },
  {
   "cell_type": "markdown",
   "metadata": {
    "id": "X6b99KStm6K9"
   },
   "source": [
    "# Taller 2: Regresión Robotnik\n",
    "\n",
    "Ejercicio inspirado en Reggie's Linear Regression de Codecademy (2022) y referencias a películas y videojuegos.\n",
    "\n",
    "El Dr. Robotnik ha sido contratado para capturar a un erizo azúl que está provocando fluctuaciones eléctricas en un pueblo lejano de Norteamérica. Se sospecha que su origen sea de naturaleza extraterrestre. Al verse frente a frente, Robotnik se mostró fascinado por la criatura y decidió capturarla para sus experimentos. Desafortunadamente, el erizo demostró poseer una velocidad nunca antes registrada por un organismo vivo, además de la capacidad de liberar energía a medida que incrementaba su velocidad. \n",
    "\n",
    "Después de una aplastante derrota a todos sus drones, Robotnik regresa a su laboratorio para diseñar un dispositivo que pueda soportar la fuerza de choque del erizo. Para ello, necesitará modelar la relación entre la velocidad y la cantidad de energía liberada por el erizo a través de una regresión lineal a partir de los datos recolectados por sus destruidos drones. \n",
    "\n",
    "Una _regresión lineal_ se basa en un grupo de puntos sobre una gráfica sobre la cual se encuentra una línea que se aproxime a estos puntos minimizando el _error_ o la distancia de cada punto hacia la línea. \n",
    "\n",
    "El objetivo de este taller es utilizar ciclos, listas y operaciones aritméticas para crear una función que encuentre la línea de mejor ajuste para una serie de datos dados (en este caso, la velocidad y energía liberada por el erizo). "
   ]
  },
  {
   "cell_type": "markdown",
   "metadata": {
    "id": "Xr0wJ-c2m6LI"
   },
   "source": [
    "## Parte 1: Cálculo del Error"
   ]
  },
  {
   "cell_type": "markdown",
   "metadata": {
    "id": "MgM4G80Vm6LJ"
   },
   "source": [
    "La línea que deseamos encontrar es de la forma:\n",
    "\n",
    "$$y = mx + b$$\n",
    "\n",
    "donde $m$ es la pendiente de la línea y $b$ el intercepto donde la línea se cruza con el eje $y$.\n",
    "\n",
    "Crea una función llamada `get_y()` que reciba como parámetros `m`, `b` y `x` y retorne el valor de `y` para esa `x`. "
   ]
  },
  {
   "cell_type": "code",
   "execution_count": 2,
   "metadata": {
    "id": "yUc__-Vwm6LK"
   },
   "outputs": [
    {
     "name": "stdout",
     "output_type": "stream",
     "text": [
      "320\n"
     ]
    }
   ],
   "source": [
    "# Función get_y().\n",
    "def get_y(m,b,x):\n",
    "    y=(m*x)+b\n",
    "    return y\n",
    "\n",
    "print(get_y(10,20,30))"
   ]
  },
  {
   "cell_type": "markdown",
   "metadata": {
    "id": "mqoq6ZICm6LN"
   },
   "source": [
    "Robotnik quiere probar muchos valores de `m` y `b` para determinar cuál produce la línea con el menor error. \n",
    "\n",
    "Para calcular el error entre un punto y una línea, requiere una función llamada `calculate_error()`, que toma `m`, `b` y un punto llamado `point` que es una pareja de valores `(x, y)` (la velocidad y la energía medidas por los drones). La función debe retornar la distancia entre la línea y el punto.  \n",
    "\n",
    "Para encontrar esta distancia, considere lo siguiente:\n",
    "1. Obtenga el valor de $x$ del punto y almacénelo en una variable llamada `x_point`.\n",
    "2. Obtenga el valor de $y$ del punto y almacénelo en una variable llamada `y_point`.\n",
    "3. Utilice la función `get_y()` para obtener el valor de $y$ calculado con el valor de `x_point`.\n",
    "4. Calcule la diferencia entre la $y$ calculada con la función `get_y()` y `y_point`\n",
    "5. Retorne el valor absoluto de la distancia (puede usar la función `abs()` para hacer esto)."
   ]
  },
  {
   "cell_type": "code",
   "execution_count": 4,
   "metadata": {
    "id": "xKBHPxXim6LP"
   },
   "outputs": [
    {
     "name": "stdout",
     "output_type": "stream",
     "text": [
      "ingrese el valor de la variable m --Pendiente--10\n",
      "ingrese el valor de la variable b --Intercepto--20\n"
     ]
    }
   ],
   "source": [
    "# Función calculate_error(m, b, point)\n",
    "\n",
    "m = int(input(\"ingrese el valor de la variable m --Pendiente--\"))\n",
    "b = int(input(\"ingrese el valor de la variable b --Intercepto--\"))\n",
    "x_point = 30\n",
    "y_point = 310\n",
    "point = (x_point, y_point)\n",
    "    \n",
    "def calculate_error(m, b, point):\n",
    "    y_calculate = get_y(m,b,point[0])\n",
    "    y_dif = abs(y_calculate-point[1])\n",
    "    return y_dif\n",
    "    \n",
    "  \n",
    "    \n"
   ]
  },
  {
   "cell_type": "markdown",
   "metadata": {
    "id": "hZjKVO6Om6LQ"
   },
   "source": [
    "Probemos la función:"
   ]
  },
  {
   "cell_type": "code",
   "execution_count": 5,
   "metadata": {
    "id": "ayv_FdJEm6LR"
   },
   "outputs": [
    {
     "name": "stdout",
     "output_type": "stream",
     "text": [
      "0\n",
      "1\n",
      "1\n",
      "5\n"
     ]
    }
   ],
   "source": [
    "#En esta línea, y = x, así que el punto (3, 3) debería estar sobre la línea. El error debe ser cero (0):\n",
    "print(calculate_error(1, 0, (3, 3)))\n",
    "\n",
    "#El punto (3, 4) debería estar a 1 unidad de distancia de la línea y = x:\n",
    "print(calculate_error(1, 0, (3, 4)))\n",
    "\n",
    "#El punto (3, 3) debería estar a 1 unidad de distancia de la línea y = x - 1:\n",
    "print(calculate_error(1, -1, (3, 3)))\n",
    "\n",
    "#El punto (3, 3) debería estar a 5 unidades de distancia de la línea y = -x + 1:\n",
    "print(calculate_error(-1, 1, (3, 3)))"
   ]
  },
  {
   "cell_type": "markdown",
   "metadata": {
    "collapsed": true,
    "id": "1jxcFWKQm6LT"
   },
   "source": [
    "Los datos de velocidad y energía recolectados por los drones de Robotnik han sido almacenados en una lista llamada `datapoints`:"
   ]
  },
  {
   "cell_type": "code",
   "execution_count": 7,
   "metadata": {
    "id": "hcwbW0Ldm6LU"
   },
   "outputs": [],
   "source": [
    "datapoints = [(1, 2), (2, 0), (3, 4), (4, 4), (5, 3)]"
   ]
  },
  {
   "cell_type": "markdown",
   "metadata": {
    "collapsed": true,
    "id": "WL0OSMlXm6LV"
   },
   "source": [
    "El primer registro, `(1, 2)`, significa que el erizo produjo una cantidad de energía de $2 GJ$ ($1 GJ = 277.8 kWh$) a una velocidad de $1 m/s$. A una velocidad de $4 m/s$ produjo $4 GJ$. \n",
    "\n",
    "A medida que buscamos una línea que se ajuste a estos datos, necesitaremos una función llamada `calculate_all_error`, que toma la `m` y la `b` que describe una línea, y un conjunto de datos `datapoints`. \n",
    "\n",
    "La función `calculate_all_error` debería iterar a través de cada `point`en `points` y calcular el error de ese punto hacia la línea (usando `calculate_error`). La función debe mantener un acumulador del error total, y luego retornar este valor al terminar de evaluar todos los puntos. "
   ]
  },
  {
   "cell_type": "code",
   "execution_count": 20,
   "metadata": {
    "id": "qwzPAHFcm6LW"
   },
   "outputs": [],
   "source": [
    "# Función calculate_all_error(m, b, datapoints):\n",
    "def calculate_all_error(m, b, datapoints):\n",
    "    err = 0\n",
    "    err_total = 0\n",
    "    for point in datapoints:\n",
    "        err= calculate_error(m,b,point)\n",
    "        err_total = err_total + err\n",
    "    return err_total\n",
    "    "
   ]
  },
  {
   "cell_type": "markdown",
   "metadata": {
    "id": "CpHfWBRhm6LX"
   },
   "source": [
    "Probemos la función:"
   ]
  },
  {
   "cell_type": "code",
   "execution_count": 21,
   "metadata": {
    "id": "ENQY_hEtm6LX"
   },
   "outputs": [
    {
     "name": "stdout",
     "output_type": "stream",
     "text": [
      "0\n",
      "4\n",
      "4\n",
      "18\n"
     ]
    }
   ],
   "source": [
    "#Cada punto en este conjunto se encuentra sobre la línea y=x, por lo que el error total debería ser cero (0):\n",
    "datapoints = [(1, 1), (3, 3), (5, 5), (-1, -1)]\n",
    "print(calculate_all_error(1, 0, datapoints))\n",
    "\n",
    "#Cada punto en este conjunto está a 1 unidad de distancia de y = x + 1, por lo que el error total debería ser de cuatro (4):\n",
    "datapoints = [(1, 1), (3, 3), (5, 5), (-1, -1)]\n",
    "print(calculate_all_error(1, 1, datapoints))\n",
    "\n",
    "#Cada punto en este conjunto está a 1 unidad de distancia de y = x - 1, por lo que el error total debería ser de cuatro (4):\n",
    "datapoints = [(1, 1), (3, 3), (5, 5), (-1, -1)]\n",
    "print(calculate_all_error(1, -1, datapoints))\n",
    "\n",
    "#Los puntos en este conjunto están a 1, 5, 9, y 3 unidades de distancia de y = -x + 1, respectivamente, \n",
    "#por lo que el error total debería ser de 1 + 5 + 9 + 3 = 18\n",
    "datapoints = [(1, 1), (3, 3), (5, 5), (-1, -1)]\n",
    "print(calculate_all_error(-1, 1, datapoints))"
   ]
  },
  {
   "cell_type": "markdown",
   "metadata": {
    "id": "od89UvHsm6LY"
   },
   "source": [
    "Robotnik parece satisfecho. Parece que ya tenemos una función que toma una línea y los datos de los drones, y retornar qué tanto error se produce cuando tratamos de encajar la línea con los datos. \n",
    "\n",
    "El siguiente paso es encontrar la `m` y la `b` que minimiza este error, y así, la que mejor se ajusta a los datos."
   ]
  },
  {
   "cell_type": "markdown",
   "metadata": {
    "id": "9vN97L_Qm6LY"
   },
   "source": [
    "## Parte 2: Probando pendientes e interceptos"
   ]
  },
  {
   "cell_type": "markdown",
   "metadata": {
    "id": "XTGI6ecOm6LZ"
   },
   "source": [
    "Robotnik considera que la mejor forma de encontrar la línea que mejor se ajusta a los datos es a punta de ensayo y error. Para esto, se debe probar muchas pendientes diferentes (valores de `m`) y muchos interceptos diferentes (valores de `b`), y ver cuál de ellos produce el error más pequeño para los registros de los drones. \n",
    "\n",
    "Usando list comprehension, crea una lista de los posibles `m` a probar. Haz que la lisa `possible_ms` vaya de -10 a 10 (inclusiva) en incrementos de 0.1.\n",
    "\n",
    "Pista: (para ver la pista, haz doble clic en la celda para ver el texto oculto) \n",
    "<span style=\"visibility: hidden;\">\n",
    "  puedes atravesar los valores en range(-100, 101) y multiplicar cada uno por 0.1\n",
    "</span>"
   ]
  },
  {
   "cell_type": "code",
   "execution_count": 27,
   "metadata": {
    "id": "Dx3yJKJFm6LZ"
   },
   "outputs": [
    {
     "name": "stdout",
     "output_type": "stream",
     "text": [
      "[-10.0, -9.9, -9.8, -9.700000000000001, -9.600000000000001, -9.5, -9.4, -9.3, -9.200000000000001, -9.1, -9.0, -8.9, -8.8, -8.700000000000001, -8.6, -8.5, -8.4, -8.3, -8.200000000000001, -8.1, -8.0, -7.9, -7.800000000000001, -7.7, -7.6000000000000005, -7.5, -7.4, -7.300000000000001, -7.2, -7.1000000000000005, -7.0, -6.9, -6.800000000000001, -6.7, -6.6000000000000005, -6.5, -6.4, -6.300000000000001, -6.2, -6.1000000000000005, -6.0, -5.9, -5.800000000000001, -5.7, -5.6000000000000005, -5.5, -5.4, -5.300000000000001, -5.2, -5.1000000000000005, -5.0, -4.9, -4.800000000000001, -4.7, -4.6000000000000005, -4.5, -4.4, -4.3, -4.2, -4.1000000000000005, -4.0, -3.9000000000000004, -3.8000000000000003, -3.7, -3.6, -3.5, -3.4000000000000004, -3.3000000000000003, -3.2, -3.1, -3.0, -2.9000000000000004, -2.8000000000000003, -2.7, -2.6, -2.5, -2.4000000000000004, -2.3000000000000003, -2.2, -2.1, -2.0, -1.9000000000000001, -1.8, -1.7000000000000002, -1.6, -1.5, -1.4000000000000001, -1.3, -1.2000000000000002, -1.1, -1.0, -0.9, -0.8, -0.7000000000000001, -0.6000000000000001, -0.5, -0.4, -0.30000000000000004, -0.2, -0.1, 0.0, 0.1, 0.2, 0.30000000000000004, 0.4, 0.5, 0.6000000000000001, 0.7000000000000001, 0.8, 0.9, 1.0, 1.1, 1.2000000000000002, 1.3, 1.4000000000000001, 1.5, 1.6, 1.7000000000000002, 1.8, 1.9000000000000001, 2.0, 2.1, 2.2, 2.3000000000000003, 2.4000000000000004, 2.5, 2.6, 2.7, 2.8000000000000003, 2.9000000000000004, 3.0, 3.1, 3.2, 3.3000000000000003, 3.4000000000000004, 3.5, 3.6, 3.7, 3.8000000000000003, 3.9000000000000004, 4.0, 4.1000000000000005, 4.2, 4.3, 4.4, 4.5, 4.6000000000000005, 4.7, 4.800000000000001, 4.9, 5.0, 5.1000000000000005, 5.2, 5.300000000000001, 5.4, 5.5, 5.6000000000000005, 5.7, 5.800000000000001, 5.9, 6.0, 6.1000000000000005, 6.2, 6.300000000000001, 6.4, 6.5, 6.6000000000000005, 6.7, 6.800000000000001, 6.9, 7.0, 7.1000000000000005, 7.2, 7.300000000000001, 7.4, 7.5, 7.6000000000000005, 7.7, 7.800000000000001, 7.9, 8.0, 8.1, 8.200000000000001, 8.3, 8.4, 8.5, 8.6, 8.700000000000001, 8.8, 8.9, 9.0, 9.1, 9.200000000000001, 9.3, 9.4, 9.5, 9.600000000000001, 9.700000000000001, 9.8, 9.9]\n"
     ]
    }
   ],
   "source": [
    "# possible_ms = []\n",
    "possible_ms =[]\n",
    "x = range(-100, 100)\n",
    "\n",
    "for n in x:\n",
    "  possible_ms.append(n*0.1)"
   ]
  },
  {
   "cell_type": "markdown",
   "metadata": {
    "id": "pC7hbi64m6La"
   },
   "source": [
    "Ahora, crea una lista de los posibles `b` (`possible_bs`) entre -20 y 20 (inclusivo), en pasos de 0.1:"
   ]
  },
  {
   "cell_type": "code",
   "execution_count": 28,
   "metadata": {
    "id": "3VjQWy6Cm6La"
   },
   "outputs": [],
   "source": [
    "# possible_bs = []\n",
    "possible_bs = []\n",
    "x = range(-200, 200)\n",
    "\n",
    "for n in x:\n",
    "  possible_bs.append(n*0.1)"
   ]
  },
  {
   "cell_type": "markdown",
   "metadata": {
    "id": "wphxD026m6Lb"
   },
   "source": [
    "Para encontrar el error más pequeño, primero tenemos que crear todas las líneas posibles (`y = mx + b`) a partir de todas las `m` y las `b` posibles (`possible_ms` y `possible_bs`). Después, tenemos que evaluar qué línea produce el menor error total con el conjunto de datos de los registros de los drones (`datapoints`)\n",
    "\n",
    "Para esto:\n",
    "1. Crea las variables que estaremos optimizando:\n",
    "    * `smallest_error` - debería comenzar en el infinito (`float(\"inf\")`) tal que cualquier error que obtengamos inicialmente sea más pequeño que `smallest_error`.\n",
    "    * `best_m` - puede comenzar en cero (0).\n",
    "    * `best_b` - puede comenzar en cero (0).\n",
    "2. Itera a través de cada elemento `m` en `possible_ms`.\n",
    "3. Para cada valor de `m`, toma cada valor de `b` en `possible_bs`.\n",
    "4. Si el valor retornado de la función `calculate_all_error` para un valor de `m`, `b` y los `datapoints` es menor que el `smallest_error` actual, cambia los valores de `best_m`, `best_b` y `smallest_error`.\n",
    "\n",
    "Al finalizar los ciclos anidados, la variable `smallest_error` debería tener el menor error encontrado, y `best_m` y `best_b` deberían ser los valores que producen el menor error. "
   ]
  },
  {
   "cell_type": "code",
   "execution_count": 30,
   "metadata": {
    "id": "gJzB664xm6Lb"
   },
   "outputs": [],
   "source": [
    "# Calcular smallest_error, best_m y best_b\n",
    "\n",
    "smallest_error = float(\"inf\")\n",
    "best_m = 0\n",
    "best_b = 0\n",
    "\n",
    "for m in possible_ms:\n",
    "    for b in possible_bs:\n",
    "        error = calculate_all_error(m,b,datapoints)\n",
    "        if error < smallest_error:\n",
    "            best_m=m\n",
    "            best_b=b\n",
    "            smallest_error = error"
   ]
  },
  {
   "cell_type": "markdown",
   "metadata": {
    "id": "OQdbTiKhm6Lb"
   },
   "source": [
    "## Parte 3: Predicciones del Modelo"
   ]
  },
  {
   "cell_type": "markdown",
   "metadata": {
    "id": "Z9Gnq9qSm6Lc"
   },
   "source": [
    "Utilizando los valores de `m` y `b` arrojados por nuestro algoritmo para encontrar la línea de mejor ajuste a los datos recopilados por los drones, grafica la línea energía-velocidad utilizando los siguientes comandos:\n",
    "```python\n",
    "from matplotlib import pyplot as plt\n",
    "x = [i*0.5 for i in range(0,101)]\n",
    "y = [m*x + b for i in x]\n",
    "plt.plot(x, y)\n",
    "plt.show()\n",
    "\n",
    "```\n",
    "No olvide cambiar los valores de `m` y `b`."
   ]
  },
  {
   "cell_type": "code",
   "execution_count": 45,
   "metadata": {
    "id": "CCRmXsJBm6Lc"
   },
   "outputs": [
    {
     "data": {
      "image/png": "[encoded data removed]",
      "text/plain": [
       "<Figure size 432x288 with 1 Axes>"
      ]
     },
     "metadata": {
      "needs_background": "light"
     },
     "output_type": "display_data"
    }
   ],
   "source": [
    "# Gráfica de la línea de mejor ajuste\n",
    "\n",
    "m=float(best_m)\n",
    "b=float(best_b)\n",
    "\n",
    "from matplotlib import pyplot as plt\n",
    "x = [i*0.5 for i in range(0,101)]\n",
    "y = [m*i + b for i in x]\n",
    "\n",
    "\n",
    "plt.plot(x, y)\n",
    "plt.plot(datapoints)\n",
    "plt.show()"
   ]
  }
 ],
 "metadata": {
  "colab": {
   "name": "Taller_2.ipynb",
   "provenance": []
  },
  "kernelspec": {
   "display_name": "Python 3",
   "language": "python",
   "name": "python3"
  },
  "language_info": {
   "codemirror_mode": {
    "name": "ipython",
    "version": 3
   },
   "file_extension": ".py",
   "mimetype": "text/x-python",
   "name": "python",
   "nbconvert_exporter": "python",
   "pygments_lexer": "ipython3",
   "version": "3.8.3"
  }
 },
 "nbformat": 4,
 "nbformat_minor": 1
}
