{
 "cells": [
  {
   "cell_type": "markdown",
   "metadata": {},
   "source": [
    "## Solucion al taller 1\n",
    "### Diplomado Python aplicado a la ingeniería\n",
    "\n",
    "- Autor: Jaider Stiven Echeverri Bedoya\n",
    "- ID: \n",
    "- Email: jaider.echeverri@upb.edu.co"
   ]
  },
  {
   "cell_type": "code",
   "execution_count": 9,
   "metadata": {},
   "outputs": [
    {
     "name": "stdout",
     "output_type": "stream",
     "text": [
      "Ingrese el nombre del artista: Don Omar\n",
      "Nena Yo quiero Ligalte Suave Hasta que salga el sol Sin miedo yo soy el  Don Omar\n"
     ]
    }
   ],
   "source": [
    "import random\n",
    "\n",
    "#Se solicita el nombre del artista al usuario\n",
    "artista = input(\"Ingrese el nombre del artista: \")\n",
    "\n",
    "#Se diseñan las listas de palabras para la combinacion\n",
    "palabras1 = [\"Mami \",\"Bebé \",\"Nena \",\"Princess \"]\n",
    "palabras2 = [\"Yo quiero \",\"Yo Puedo \",\"Yo vengo a \",\"Voy a \"]\n",
    "palabras3 = [\"Encendelte \",\"Amalte \",\"Ligalte \",\"Jugalte \"]\n",
    "palabras4 = [\"Suave \",\"Lento \",\"Rápido \",\"Fuelte \"]\n",
    "palabras5 = [\"Hasta que salga el sol \",\"Toda la noche \",\"Hasta el amanecel \",\"Todo el día \"]\n",
    "palabras6 = [\"Sin anestecia \", \"Sin Compromiso \",\"Feis to feis \",\"Sin miedo \"]\n",
    "palabras7 = [\"Te lo digo yo \", \"te lo dice el \",\"yo soy el \"]\n",
    "\n",
    "#Se concatenan las palabras seleccionadas aleatoriamente de las listas\n",
    "letra = print(str(palabras1[random.randint(0, len(palabras1)-1)])+\n",
    "              str(palabras2[random.randint(0, len(palabras2)-1)])+\n",
    "              str(palabras3[random.randint(0, len(palabras3)-1)])+\n",
    "              str(palabras4[random.randint(0, len(palabras4)-1)])+\n",
    "              str(palabras5[random.randint(0, len(palabras5)-1)])+\n",
    "              str(palabras6[random.randint(0, len(palabras6)-1)])+\n",
    "              str(palabras7[random.randint(0, len(palabras7)-1)])+\" \"+ artista)\n"
   ]
  },
  {
   "cell_type": "code",
   "execution_count": null,
   "metadata": {},
   "outputs": [],
   "source": []
  }
 ],
 "metadata": {
  "kernelspec": {
   "display_name": "Python 3",
   "language": "python",
   "name": "python3"
  },
  "language_info": {
   "codemirror_mode": {
    "name": "ipython",
    "version": 3
   },
   "file_extension": ".py",
   "mimetype": "text/x-python",
   "name": "python",
   "nbconvert_exporter": "python",
   "pygments_lexer": "ipython3",
   "version": "3.8.3"
  }
 },
 "nbformat": 4,
 "nbformat_minor": 4
}
