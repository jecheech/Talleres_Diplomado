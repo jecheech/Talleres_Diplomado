{
 "cells": [
  {
   "cell_type": "markdown",
   "metadata": {},
   "source": [
    "## Solucion al taller 1\n",
    "### Diplomado Python aplicado a la ingeniería\n",
    "\n",
    "- Autor: Jaider Stiven Echeverri Bedoya\n",
    "- ID: \n",
    "- Email: jaider.echeverri@upb.edu.co"
   ]
  },
  {
   "cell_type": "code",
   "execution_count": 4,
   "metadata": {},
   "outputs": [
    {
     "name": "stdout",
     "output_type": "stream",
     "text": [
      "Ingrese el nombre del artista: daddy\n",
      "Nena Yo Puedo Ligalte Lento Toda la noche Sin miedo yo soy el  daddy\n"
     ]
    }
   ],
   "source": [
    "import random\n",
    "\n",
    "#Se solicita el nombre del artista al usuario\n",
    "artista = input(\"Ingrese el nombre del artista: \")\n",
    "\n",
    "#Se diseñan las listas de palabras para la combinacion\n",
    "palabras1 = [\"Mami \",\"Bebé \",\"Nena \",\"Princess \"]\n",
    "palabras2 = [\"Yo quiero \",\"Yo Puedo \",\"Yo vengo a \",\"Voy a \"]\n",
    "palabras3 = [\"Encendelte \",\"Amalte \",\"Ligalte \",\"Jugalte \"]\n",
    "palabras4 = [\"Suave \",\"Lento \",\"Rápido \",\"Fuelte \"]\n",
    "palabras5 = [\"Hasta que salga el sol \",\"Toda la noche \",\"Hasta el amanecel \",\"Todo el día \"]\n",
    "palabras6 = [\"Sin anestecia \", \"Sin Compromiso \",\"Feis to feis \",\"Sin miedo \"]\n",
    "palabras7 = [\"Te lo digo yo \", \"te lo dice el \",\"yo soy el \"]\n",
    "\n",
    "#Se concatenan las palabras seleccionadas aleatoriamente de las listas\n",
    "letra = print(str(palabras1[random.randint(0, len(palabras1)-1)])+\n",
    "              str(palabras2[random.randint(0, len(palabras2)-1)])+\n",
    "              str(palabras3[random.randint(0, len(palabras3)-1)])+\n",
    "              str(palabras4[random.randint(0, len(palabras4)-1)])+\n",
    "              str(palabras5[random.randint(0, len(palabras5)-1)])+\n",
    "              str(palabras6[random.randint(0, len(palabras6)-1)])+\n",
    "              str(palabras7[random.randint(0, len(palabras7)-1)])+\" \"+ artista)\n"
   ]
  },
  {
   "cell_type": "code",
   "execution_count": 8,
   "metadata": {},
   "outputs": [
    {
     "name": "stdout",
     "output_type": "stream",
     "text": [
      "\n",
      "Mami Voy a Amalte Suave Todo el día Sin anestecia yo soy el  daddy\n",
      "Princess Yo Puedo Ligalte Rápido Toda la noche Sin Compromiso te lo dice el  daddy\n",
      "Mami Yo Puedo Jugalte Suave Hasta el amanecel Sin anestecia yo soy el  daddy\n",
      "Mami Yo quiero Encendelte Suave Toda la noche Feis to feis yo soy el  daddy\n",
      "Princess Voy a Encendelte Suave Hasta que salga el sol Feis to feis te lo dice el  daddy\n",
      "Mami Yo Puedo Amalte Lento Toda la noche Sin anestecia yo soy el  daddy\n",
      "Nena Yo quiero Jugalte Suave Toda la noche Sin miedo Te lo digo yo  daddy\n",
      "Princess Yo quiero Ligalte Fuelte Hasta el amanecel Sin anestecia te lo dice el  daddy\n",
      "Princess Yo vengo a Ligalte Rápido Todo el día Sin miedo te lo dice el  daddy\n",
      "Mami Yo Puedo Jugalte Fuelte Hasta el amanecel Sin anestecia yo soy el  daddy\n",
      "Princess Yo quiero Jugalte Fuelte Hasta que salga el sol Feis to feis Te lo digo yo  daddy\n",
      "Mami Voy a Ligalte Fuelte Todo el día Sin Compromiso Te lo digo yo  daddy\n",
      "Bebé Yo quiero Ligalte Suave Todo el día Sin Compromiso yo soy el  daddy\n",
      "Bebé Yo Puedo Jugalte Fuelte Todo el día Sin miedo Te lo digo yo  daddy\n",
      "Princess Yo Puedo Jugalte Lento Hasta que salga el sol Sin anestecia yo soy el  daddy\n",
      "Bebé Yo quiero Encendelte Suave Hasta que salga el sol Sin Compromiso yo soy el  daddy\n",
      "Mami Voy a Jugalte Fuelte Hasta el amanecel Sin Compromiso te lo dice el  daddy\n",
      "Nena Yo vengo a Ligalte Rápido Hasta que salga el sol Sin anestecia te lo dice el  daddy\n",
      "Mami Yo quiero Amalte Lento Hasta que salga el sol Feis to feis te lo dice el  daddy\n",
      "Princess Yo vengo a Amalte Suave Hasta que salga el sol Sin anestecia Te lo digo yo  daddy\n",
      "Princess Yo vengo a Amalte Lento Todo el día Sin Compromiso yo soy el  daddy\n",
      "Princess Yo Puedo Encendelte Rápido Hasta que salga el sol Feis to feis te lo dice el  daddy\n",
      "Nena Yo Puedo Amalte Fuelte Hasta el amanecel Sin Compromiso te lo dice el  daddy\n",
      "Bebé Yo quiero Amalte Fuelte Toda la noche Feis to feis Te lo digo yo  daddy\n",
      "Nena Yo quiero Encendelte Lento Todo el día Feis to feis yo soy el  daddy\n",
      "Princess Yo quiero Ligalte Rápido Todo el día Sin Compromiso yo soy el  daddy\n",
      "Princess Voy a Ligalte Fuelte Hasta el amanecel Feis to feis Te lo digo yo  daddy\n",
      "Princess Yo Puedo Jugalte Rápido Toda la noche Feis to feis Te lo digo yo  daddy\n",
      "Mami Yo quiero Ligalte Fuelte Hasta el amanecel Sin anestecia Te lo digo yo  daddy\n",
      "Mami Yo Puedo Amalte Lento Hasta el amanecel Sin anestecia Te lo digo yo  daddy\n"
     ]
    }
   ],
   "source": [
    "def gen_letra(parrafos):\n",
    "    inicial = 0\n",
    "    parrafo = \"\"\n",
    "    while inicial < parrafos:\n",
    "        x_1 = random.randint(0, len(palabras1)-1)\n",
    "        x_2 = random.randint(0, len(palabras2)-1)\n",
    "        x_3 = random.randint(0, len(palabras3)-1)\n",
    "        x_4 = random.randint(0, len(palabras4)-1)\n",
    "        x_5 = random.randint(0, len(palabras5)-1)\n",
    "        x_6 = random.randint(0, len(palabras6)-1)\n",
    "        x_7 = random.randint(0, len(palabras7)-1)\n",
    "        letra = (str(palabras1[x_1])+str(palabras2[x_2])+str(palabras3[x_3])+\n",
    "                  str(palabras4[x_4])+str(palabras5[x_5])+str(palabras6[x_6])+str(palabras7[x_7])+\" \"+ artista) \n",
    "        parrafo = str(parrafo) + '\\n' + str(letra)\n",
    "        inicial = inicial +1\n",
    "    return parrafo\n",
    "\n",
    "print(gen_letra(30))"
   ]
  },
  {
   "cell_type": "code",
   "execution_count": null,
   "metadata": {},
   "outputs": [],
   "source": []
  }
 ],
 "metadata": {
  "kernelspec": {
   "display_name": "Python 3",
   "language": "python",
   "name": "python3"
  },
  "language_info": {
   "codemirror_mode": {
    "name": "ipython",
    "version": 3
   },
   "file_extension": ".py",
   "mimetype": "text/x-python",
   "name": "python",
   "nbconvert_exporter": "python",
   "pygments_lexer": "ipython3",
   "version": "3.8.3"
  }
 },
 "nbformat": 4,
 "nbformat_minor": 4
}
